{
 "metadata": {
  "name": "",
  "signature": "sha256:a262a8f7104ca72be8f5538da198b7a3918ba3e5dcf292f736850b09e911b47d"
 },
 "nbformat": 3,
 "nbformat_minor": 0,
 "worksheets": [
  {
   "cells": [
    {
     "cell_type": "markdown",
     "metadata": {},
     "source": [
      "#2013-2014 HHS Advanced Math Final Exam Review KEY#\n"
     ]
    },
    {
     "cell_type": "code",
     "collapsed": false,
     "input": [
      "from sympy.plotting import plot as symplot\n",
      "from sympy import symbols\n",
      "x = symbols('x')"
     ],
     "language": "python",
     "metadata": {},
     "outputs": [],
     "prompt_number": 1
    },
    {
     "cell_type": "markdown",
     "metadata": {},
     "source": [
      "###[1] Identify the coordinate of each point###\n",
      "\n",
      "Distance between each point is always 25, so you can work your way out from the origin (0,0) to find the coordinates of every point, then fill in the table:\n",
      "\n",
      "        A    B    C    D    E    F    G    H    I    J\n",
      "    x   50   75   75   75   50   25   0    0    25   50\n",
      "    y   50   50   25   0    0    0    0    25   25   25\n",
      "    \n",
      "\n",
      "###[2] What is the perimeter of the building###\n",
      "\n",
      "There are a total of ten points around the perimeter, each separated from its neighbor by a gap of 25 feet. There must be a total of ten gaps, so the total perimeter is:\n",
      "    \n",
      "$$ P = (10)(25 \\ ft) = 250 \\  ft $$\n",
      "    \n",
      "###[3] Graph the horizontal position as a function of distance ###\n",
      "\n",
      "Using a horizontal distance scale that increments at 25 ft per point, plot the x values from the table in [1]:"
     ]
    },
    {
     "cell_type": "code",
     "collapsed": false,
     "input": [
      "D = range(0,500,25)    # Obtain a list of distances, at intervals of 25\n",
      "H = [50, 75, 75, 75, 50, 25, 0, 0, 25, 50]*2  # the list of x values from [1], doubled in length\n",
      "plot(D,H, marker='o')\n",
      "grid()\n",
      "display()"
     ],
     "language": "python",
     "metadata": {},
     "outputs": [
      {
       "metadata": {},
       "output_type": "display_data",
       "png": "[encoded data removed]",
       "text": [
        "<matplotlib.figure.Figure at 0x491f450>"
       ]
      }
     ],
     "prompt_number": 2
    },
    {
     "cell_type": "markdown",
     "metadata": {},
     "source": [
      "###[4] Graph the vertical position as a function of distance###\n",
      "\n",
      "Same deal as [3], but plotting the Y coordinates vs distance:"
     ]
    },
    {
     "cell_type": "code",
     "collapsed": false,
     "input": [
      "V = [50, 50, 25, 0, 0, 0, 0, 25, 25, 25]*2  # the list of y values from [1], doubled in length\n",
      "plot(D,V, marker='o')\n",
      "ylim(ymin=0, ymax=80)  # keep the same vertical scale as before\n",
      "grid()\n",
      "display()"
     ],
     "language": "python",
     "metadata": {},
     "outputs": [
      {
       "metadata": {},
       "output_type": "display_data",
       "png": "[encoded data removed]",
       "text": [
        "<matplotlib.figure.Figure at 0x4ae61d0>"
       ]
      }
     ],
     "prompt_number": 3
    },
    {
     "cell_type": "markdown",
     "metadata": {},
     "source": [
      "###[5] How far has Milton walked if he hits G twice?###\n",
      "\n",
      "From A to G is 6 intervals of 25 ft. If Milton walks around to G again, he will cover a complete perimeter's worth of walking to do so. His total distance is:\n",
      "\n",
      "$$ D = (6)(25\\ ft) + P = 150\\ ft + 250\\ ft = 400\\ ft $$\n",
      "\n",
      "###[6] Where will Milton be at 575 ft?###\n",
      "\n",
      "575 ft represents two complete circuits of the perimeter ( 2(250) = 500 ft ) plus an additional 75 ft. Since 75 ft represents three intervals of 25 ft each, Milton will have gone an additional three intervals past \"A\". Therefore, **Milton is at \"D\"**. \n",
      "\n",
      "###[7] Identify features of the periodic function###\n",
      "\n",
      "[a] The period: Examine the function to find the *smallest* section that appears to repeat. For example, if you look at the behavior near the origin (0,0), the function appears to have the exact same behavior at (12,0), twelve units to the right. The x distance of this interval is the period, **P = 12**\n",
      "\n",
      "[b] The amplitude: Amplitude is half the distance between maximum and minimum peaks of the function, or:\n",
      "        \n",
      "$$ A = \\frac {f_{max} - f_{min}} {2} $$\n",
      "\n",
      "In this function, $f_{max}=3$ and $f_{min}=-3$ so $A = \\frac {3-(-3)}{2} = 3$\n",
      "\n",
      "[c] To find f(8), *look at the function graph* and find the vertical coordinate of the function when x=8: **f(8) = -1**\n",
      "\n",
      "[d] Likewise, **f(-7) = 2**\n",
      "\n",
      "[e] Since the function is *periodic*, like Milton's walk, you can find the behavior at large values of x by dividing x by the period and finding f(remainder) instead. Since 82/12 is 6 with a remainder of 10, you can find the behavior of the function at f(82) by looking at f(10) instead: $ f(82) = f(12\\cdot 6+10) = f(10) = -3 $\n",
      "\n",
      "[f] Same method as [e], but in the negative direction: $ f(-27) = f(12\\cdot (-2) -3) = f(-3) = -2 $\n",
      "    \n",
      "## Transformations ##\n",
      "###[8] Graph g(x) = f(x)+1 ###\n",
      "\n",
      "This is a vertical shift (+1) of f(x). Graph by copying every vertex of the original graph one unit *above* the original location:\n"
     ]
    },
    {
     "cell_type": "code",
     "collapsed": false,
     "input": [
      "fxpoints = [0,3,2.5,2,-1,2,1,0,-1,-2,-3,-1.5]\n",
      "f = lambda x, points=fxpoints: points[x % len(points)]\n",
      "X = range(-13,17)\n",
      "figure(figsize=(15, 20))\n",
      "plot(X,[f(x) for x in X],'--')   # plot the parent function, vs. X\n",
      "plot(X,[f(x)+1 for x in X])      # plot the transformed function f(x)+1, vs. X\n",
      "grid()\n",
      "xticks(X)\n",
      "axes().set_aspect(1.)\n",
      "display()"
     ],
     "language": "python",
     "metadata": {},
     "outputs": [
      {
       "metadata": {},
       "output_type": "display_data",
       "png": "[encoded data removed]",
       "text": [
        "<matplotlib.figure.Figure at 0x4914d10>"
       ]
      }
     ],
     "prompt_number": 4
    },
    {
     "cell_type": "markdown",
     "metadata": {},
     "source": [
      "###[9] Graph h(x) = f(x-3) ###\n",
      "\n",
      "This is a horizontal shift (+3) of f(x). Graph by copying every vertex of the original graph three units *to the right* of the original location:\n"
     ]
    },
    {
     "cell_type": "code",
     "collapsed": false,
     "input": [
      "figure(figsize=(15, 20))\n",
      "plot(X,[f(x) for x in X],'--')\n",
      "plot(X,[f(x-3) for x in X])      # plot the transformed function: f(x-3), vs. X\n",
      "grid()\n",
      "xticks(X)\n",
      "axes().set_aspect(1.)\n",
      "display()"
     ],
     "language": "python",
     "metadata": {},
     "outputs": [
      {
       "metadata": {},
       "output_type": "display_data",
       "png": "[encoded data removed]",
       "text": [
        "<matplotlib.figure.Figure at 0x4b0a110>"
       ]
      }
     ],
     "prompt_number": 5
    },
    {
     "cell_type": "markdown",
     "metadata": {},
     "source": [
      "## Arbitrating Disputes ##\n",
      "\n",
      "###[10] Inequalities for the feasible region###\n",
      "\n",
      "Write a system of inequalities that is **true** for the shaded region.\n",
      "\n",
      "$$ \\overleftrightarrow {PS}: y > \\frac 3 5 x $$\n",
      "    \n",
      "$$ \\overleftrightarrow {PT}: y < -x + 8 $$\n",
      "    \n",
      "$$ \\overleftrightarrow {TS}: y < 7 x $$\n",
      "    \n",
      "###[11] Who prefers what###\n",
      "\n",
      "Since T is ranked more highly than P on D's utility axis (vertical axis), **Mr. D prefers T**. Since P is ranked more highly than T on M's utility axis (horizontal axis), **Mrs. M prefers P**.\n",
      "\n",
      "###[11 (cont.)] Utility at the corner points and boundaries###\n",
      "\n",
      "At each corner point, compute $ x \\cdot y $:\n",
      "    \n",
      "SQ: $ x \\cdot y = 0 \\cdot 0 = 0 $\n",
      "    \n",
      "T: $ x \\cdot y = 1 \\cdot 7 = 7 $\n",
      "\n",
      "P: $ x \\cdot y = 5 \\cdot 3 = 15 $ \n",
      "    \n",
      "On the boundaries:\n",
      "    \n",
      "$$ \\overleftrightarrow {PS}:\\ x = x, \\ y = \\frac 3 5 x, \\ x \\cdot y = x \\cdot \\left(\\frac 3 5 x\\right) = \\frac 3 5 x^2 $$\n",
      "        \n",
      "$$ \\overleftrightarrow {PT}:\\ x = x, \\ y = -x+8, \\ x \\cdot y = x \\cdot (-x+8) = -x^2+8x $$\n",
      "\n",
      "$$ \\overleftrightarrow {TS}:\\ x = x, \\ y = 7x, \\ x \\cdot y = x \\cdot (7x) = 7x^2 $$\n",
      "\n",
      "Use the vertex formula ($ x = \\frac {-b} {2a} $) to find the vertex for each case. Look at the sign of the leading coefficient to decide if the vertex represents a minimum or maximum:\n",
      "    \n",
      "Vertexes:\n",
      "    \n",
      "$$ \\overleftrightarrow {PS}: \\ x = 0 \\ (minimum) $$\n",
      "\n",
      "$$ \\overleftrightarrow {PT}: \\ x = 4 \\ (maximum) $$\n",
      "\n",
      "$$ \\overleftrightarrow {TS}: \\ x = 0 \\ (minimum) $$\n",
      "\n",
      "###[12] Maximum utility and its location ###\n",
      "\n",
      "Maximum utility on any boundary is at x=4 on $\\overleftrightarrow{TP}$, where y=4 (**coordinates (4,4)**). The utility is simply $4 \\cdot 4 = 16$. This is a higher utility than on any of the vertexes and represents the solution.\n",
      "\n",
      "###[13] What do you do about it? ###\n",
      "\n",
      "The point of maximum utility is three times closer to P than T. A possible recommendation would be that for every 4 assessments, three will be project based and one will be traditional.\n",
      "\n",
      "## Polynomials ##\n",
      "\n",
      "Factor and find real zeros.\n",
      "\n",
      "###[14]###\n",
      "\n",
      "$ f(x)=(x+5)(x-1) $\n",
      "\n",
      "Zeros are at $x=1$ and $x=-5$\n",
      "\n",
      "###[15]###\n",
      "\n",
      "$ g(x)=(2x-3)(x-2) $\n",
      "\n",
      "Zeros are at $x= \\frac 3 2$ and $x=2$\n",
      "\n",
      "###[16]###\n",
      "\n",
      "This quartic is in quadratic form. Use the substitution: $u = x^2$:\n",
      "        \n",
      "$h(x)=x^4+3x^2-4 = u^2+3u-4 = (u+4)(u-1)$\n",
      "\n",
      "Put the result back into terms of x by substitution:\n",
      "    \n",
      "$h(x)= (x^2+4)(x^2-1)$\n",
      "\n",
      "Zeros are at $x=1$ and $x=-1$. Solutions for the $(x^2+4)$ term are imaginary.\n",
      "\n",
      "###[17]###\n",
      "\n",
      "Factor by grouping:\n",
      "    \n",
      "$k(x)=x^2(x-2)-4(x-2)=(x^2-4)(x-2)$\n",
      "\n",
      "Zero is at $x=-2$ and there is a double zero at $x=2$\n",
      "\n",
      "###[18]###\n",
      "\n",
      "Find a factor that is common to all terms, then factor the remainder by grouping:\n",
      "    \n",
      "$p(x)=3x^2(x^3-3x^2-4x+12)=3x^2[x^2(x-3)-4(x-3)]=3x^2(x^2-4)(x-3)$\n",
      "\n",
      "There is a double zero at $x=0$, then zeros at $x=3$, $x=\\pm 2$\n",
      "\n",
      "###[19]###\n",
      "\n",
      "Vertex at (-2,-9) (Use $x = \\frac {-b}{2a}$, then substitute into f(x) to find y coordinate)\n",
      "\n"
     ]
    },
    {
     "cell_type": "code",
     "collapsed": false,
     "input": [
      "symplot(x**2 +4*x - 5, (x, -8, 5))\n",
      "show()"
     ],
     "language": "python",
     "metadata": {},
     "outputs": [
      {
       "ename": "ValueError",
       "evalue": "The arguments must be Symbols.",
       "output_type": "pyerr",
       "traceback": [
        "\u001b[1;31m---------------------------------------------------------------------------\u001b[0m\n\u001b[1;31mValueError\u001b[0m                                Traceback (most recent call last)",
        "\u001b[1;32m<ipython-input-6-71822f884c87>\u001b[0m in \u001b[0;36m<module>\u001b[1;34m()\u001b[0m\n\u001b[1;32m----> 1\u001b[1;33m \u001b[0msymplot\u001b[0m\u001b[1;33m(\u001b[0m\u001b[0mx\u001b[0m\u001b[1;33m**\u001b[0m\u001b[1;36m2\u001b[0m \u001b[1;33m+\u001b[0m\u001b[1;36m4\u001b[0m\u001b[1;33m*\u001b[0m\u001b[0mx\u001b[0m \u001b[1;33m-\u001b[0m \u001b[1;36m5\u001b[0m\u001b[1;33m,\u001b[0m \u001b[1;33m(\u001b[0m\u001b[0mx\u001b[0m\u001b[1;33m,\u001b[0m \u001b[1;33m-\u001b[0m\u001b[1;36m8\u001b[0m\u001b[1;33m,\u001b[0m \u001b[1;36m5\u001b[0m\u001b[1;33m)\u001b[0m\u001b[1;33m)\u001b[0m\u001b[1;33m\u001b[0m\u001b[0m\n\u001b[0m\u001b[0;32m      2\u001b[0m \u001b[0mshow\u001b[0m\u001b[1;33m(\u001b[0m\u001b[1;33m)\u001b[0m\u001b[1;33m\u001b[0m\u001b[0m\n",
        "\u001b[1;32m/opt/anaconda/envs/np18py27-1.9/lib/python2.7/site-packages/sympy/plotting/plot.pyc\u001b[0m in \u001b[0;36mplot\u001b[1;34m(*args, **kwargs)\u001b[0m\n\u001b[0;32m   1214\u001b[0m     \u001b[0mplots\u001b[0m \u001b[1;33m=\u001b[0m \u001b[0mPlot\u001b[0m\u001b[1;33m(\u001b[0m\u001b[1;33m*\u001b[0m\u001b[0mseries\u001b[0m\u001b[1;33m,\u001b[0m \u001b[1;33m**\u001b[0m\u001b[0mkwargs\u001b[0m\u001b[1;33m)\u001b[0m\u001b[1;33m\u001b[0m\u001b[0m\n\u001b[0;32m   1215\u001b[0m     \u001b[1;32mif\u001b[0m \u001b[0mshow\u001b[0m\u001b[1;33m:\u001b[0m\u001b[1;33m\u001b[0m\u001b[0m\n\u001b[1;32m-> 1216\u001b[1;33m         \u001b[0mplots\u001b[0m\u001b[1;33m.\u001b[0m\u001b[0mshow\u001b[0m\u001b[1;33m(\u001b[0m\u001b[1;33m)\u001b[0m\u001b[1;33m\u001b[0m\u001b[0m\n\u001b[0m\u001b[0;32m   1217\u001b[0m     \u001b[1;32mreturn\u001b[0m \u001b[0mplots\u001b[0m\u001b[1;33m\u001b[0m\u001b[0m\n\u001b[0;32m   1218\u001b[0m \u001b[1;33m\u001b[0m\u001b[0m\n",
        "\u001b[1;32m/opt/anaconda/envs/np18py27-1.9/lib/python2.7/site-packages/sympy/plotting/plot.pyc\u001b[0m in \u001b[0;36mshow\u001b[1;34m(self)\u001b[0m\n\u001b[0;32m    182\u001b[0m             \u001b[0mself\u001b[0m\u001b[1;33m.\u001b[0m\u001b[0m_backend\u001b[0m\u001b[1;33m.\u001b[0m\u001b[0mclose\u001b[0m\u001b[1;33m(\u001b[0m\u001b[1;33m)\u001b[0m\u001b[1;33m\u001b[0m\u001b[0m\n\u001b[0;32m    183\u001b[0m         \u001b[0mself\u001b[0m\u001b[1;33m.\u001b[0m\u001b[0m_backend\u001b[0m \u001b[1;33m=\u001b[0m \u001b[0mself\u001b[0m\u001b[1;33m.\u001b[0m\u001b[0mbackend\u001b[0m\u001b[1;33m(\u001b[0m\u001b[0mself\u001b[0m\u001b[1;33m)\u001b[0m\u001b[1;33m\u001b[0m\u001b[0m\n\u001b[1;32m--> 184\u001b[1;33m         \u001b[0mself\u001b[0m\u001b[1;33m.\u001b[0m\u001b[0m_backend\u001b[0m\u001b[1;33m.\u001b[0m\u001b[0mshow\u001b[0m\u001b[1;33m(\u001b[0m\u001b[1;33m)\u001b[0m\u001b[1;33m\u001b[0m\u001b[0m\n\u001b[0m\u001b[0;32m    185\u001b[0m \u001b[1;33m\u001b[0m\u001b[0m\n\u001b[0;32m    186\u001b[0m     \u001b[1;32mdef\u001b[0m \u001b[0msave\u001b[0m\u001b[1;33m(\u001b[0m\u001b[0mself\u001b[0m\u001b[1;33m,\u001b[0m \u001b[0mpath\u001b[0m\u001b[1;33m)\u001b[0m\u001b[1;33m:\u001b[0m\u001b[1;33m\u001b[0m\u001b[0m\n",
        "\u001b[1;32m/opt/anaconda/envs/np18py27-1.9/lib/python2.7/site-packages/sympy/plotting/plot.pyc\u001b[0m in \u001b[0;36mshow\u001b[1;34m(self)\u001b[0m\n\u001b[0;32m    963\u001b[0m \u001b[1;33m\u001b[0m\u001b[0m\n\u001b[0;32m    964\u001b[0m     \u001b[1;32mdef\u001b[0m \u001b[0mshow\u001b[0m\u001b[1;33m(\u001b[0m\u001b[0mself\u001b[0m\u001b[1;33m)\u001b[0m\u001b[1;33m:\u001b[0m\u001b[1;33m\u001b[0m\u001b[0m\n\u001b[1;32m--> 965\u001b[1;33m         \u001b[0mself\u001b[0m\u001b[1;33m.\u001b[0m\u001b[0mprocess_series\u001b[0m\u001b[1;33m(\u001b[0m\u001b[1;33m)\u001b[0m\u001b[1;33m\u001b[0m\u001b[0m\n\u001b[0m\u001b[0;32m    966\u001b[0m         \u001b[1;31m#TODO after fixing https://github.com/ipython/ipython/issues/1255\u001b[0m\u001b[1;33m\u001b[0m\u001b[1;33m\u001b[0m\u001b[0m\n\u001b[0;32m    967\u001b[0m         \u001b[1;31m# you can uncomment the next line and remove the pyplot.show() call\u001b[0m\u001b[1;33m\u001b[0m\u001b[1;33m\u001b[0m\u001b[0m\n",
        "\u001b[1;32m/opt/anaconda/envs/np18py27-1.9/lib/python2.7/site-packages/sympy/plotting/plot.pyc\u001b[0m in \u001b[0;36mprocess_series\u001b[1;34m(self)\u001b[0m\n\u001b[0;32m    847\u001b[0m             \u001b[1;31m# Create the collections\u001b[0m\u001b[1;33m\u001b[0m\u001b[1;33m\u001b[0m\u001b[0m\n\u001b[0;32m    848\u001b[0m             \u001b[1;32mif\u001b[0m \u001b[0ms\u001b[0m\u001b[1;33m.\u001b[0m\u001b[0mis_2Dline\u001b[0m\u001b[1;33m:\u001b[0m\u001b[1;33m\u001b[0m\u001b[0m\n\u001b[1;32m--> 849\u001b[1;33m                 \u001b[0mcollection\u001b[0m \u001b[1;33m=\u001b[0m \u001b[0mself\u001b[0m\u001b[1;33m.\u001b[0m\u001b[0mLineCollection\u001b[0m\u001b[1;33m(\u001b[0m\u001b[0ms\u001b[0m\u001b[1;33m.\u001b[0m\u001b[0mget_segments\u001b[0m\u001b[1;33m(\u001b[0m\u001b[1;33m)\u001b[0m\u001b[1;33m)\u001b[0m\u001b[1;33m\u001b[0m\u001b[0m\n\u001b[0m\u001b[0;32m    850\u001b[0m                 \u001b[0mself\u001b[0m\u001b[1;33m.\u001b[0m\u001b[0max\u001b[0m\u001b[1;33m.\u001b[0m\u001b[0madd_collection\u001b[0m\u001b[1;33m(\u001b[0m\u001b[0mcollection\u001b[0m\u001b[1;33m)\u001b[0m\u001b[1;33m\u001b[0m\u001b[0m\n\u001b[0;32m    851\u001b[0m             \u001b[1;32melif\u001b[0m \u001b[0ms\u001b[0m\u001b[1;33m.\u001b[0m\u001b[0mis_contour\u001b[0m\u001b[1;33m:\u001b[0m\u001b[1;33m\u001b[0m\u001b[0m\n",
        "\u001b[1;32m/opt/anaconda/envs/np18py27-1.9/lib/python2.7/site-packages/sympy/plotting/plot.pyc\u001b[0m in \u001b[0;36mget_segments\u001b[1;34m(self)\u001b[0m\n\u001b[0;32m    406\u001b[0m             \u001b[1;32mreturn\u001b[0m \u001b[0msuper\u001b[0m\u001b[1;33m(\u001b[0m\u001b[0mLineOver1DRangeSeries\u001b[0m\u001b[1;33m,\u001b[0m \u001b[0mself\u001b[0m\u001b[1;33m)\u001b[0m\u001b[1;33m.\u001b[0m\u001b[0mget_segments\u001b[0m\u001b[1;33m(\u001b[0m\u001b[1;33m)\u001b[0m\u001b[1;33m\u001b[0m\u001b[0m\n\u001b[0;32m    407\u001b[0m         \u001b[1;32melse\u001b[0m\u001b[1;33m:\u001b[0m\u001b[1;33m\u001b[0m\u001b[0m\n\u001b[1;32m--> 408\u001b[1;33m             \u001b[0mf\u001b[0m \u001b[1;33m=\u001b[0m \u001b[0mlambdify\u001b[0m\u001b[1;33m(\u001b[0m\u001b[1;33m[\u001b[0m\u001b[0mself\u001b[0m\u001b[1;33m.\u001b[0m\u001b[0mvar\u001b[0m\u001b[1;33m]\u001b[0m\u001b[1;33m,\u001b[0m \u001b[0mself\u001b[0m\u001b[1;33m.\u001b[0m\u001b[0mexpr\u001b[0m\u001b[1;33m)\u001b[0m\u001b[1;33m\u001b[0m\u001b[0m\n\u001b[0m\u001b[0;32m    409\u001b[0m             \u001b[0mlist_segments\u001b[0m \u001b[1;33m=\u001b[0m \u001b[1;33m[\u001b[0m\u001b[1;33m]\u001b[0m\u001b[1;33m\u001b[0m\u001b[0m\n\u001b[0;32m    410\u001b[0m \u001b[1;33m\u001b[0m\u001b[0m\n",
        "\u001b[1;32m/opt/anaconda/envs/np18py27-1.9/lib/python2.7/site-packages/sympy/plotting/experimental_lambdify.pyc\u001b[0m in \u001b[0;36m__init__\u001b[1;34m(self, args, expr)\u001b[0m\n\u001b[0;32m    184\u001b[0m         \u001b[0mself\u001b[0m\u001b[1;33m.\u001b[0m\u001b[0mexpr\u001b[0m \u001b[1;33m=\u001b[0m \u001b[0mexpr\u001b[0m\u001b[1;33m\u001b[0m\u001b[0m\n\u001b[0;32m    185\u001b[0m         self.lambda_func = experimental_lambdify(args, expr, use_evalf=True,\n\u001b[1;32m--> 186\u001b[1;33m                                                  use_python_cmath=True)\n\u001b[0m\u001b[0;32m    187\u001b[0m         \u001b[0mself\u001b[0m\u001b[1;33m.\u001b[0m\u001b[0mfailure\u001b[0m \u001b[1;33m=\u001b[0m \u001b[0mFalse\u001b[0m\u001b[1;33m\u001b[0m\u001b[0m\n\u001b[0;32m    188\u001b[0m \u001b[1;33m\u001b[0m\u001b[0m\n",
        "\u001b[1;32m/opt/anaconda/envs/np18py27-1.9/lib/python2.7/site-packages/sympy/plotting/experimental_lambdify.pyc\u001b[0m in \u001b[0;36mexperimental_lambdify\u001b[1;34m(*args, **kwargs)\u001b[0m\n\u001b[0;32m    236\u001b[0m \u001b[1;33m\u001b[0m\u001b[0m\n\u001b[0;32m    237\u001b[0m \u001b[1;32mdef\u001b[0m \u001b[0mexperimental_lambdify\u001b[0m\u001b[1;33m(\u001b[0m\u001b[1;33m*\u001b[0m\u001b[0margs\u001b[0m\u001b[1;33m,\u001b[0m \u001b[1;33m**\u001b[0m\u001b[0mkwargs\u001b[0m\u001b[1;33m)\u001b[0m\u001b[1;33m:\u001b[0m\u001b[1;33m\u001b[0m\u001b[0m\n\u001b[1;32m--> 238\u001b[1;33m     \u001b[0ml\u001b[0m \u001b[1;33m=\u001b[0m \u001b[0mLambdifier\u001b[0m\u001b[1;33m(\u001b[0m\u001b[1;33m*\u001b[0m\u001b[0margs\u001b[0m\u001b[1;33m,\u001b[0m \u001b[1;33m**\u001b[0m\u001b[0mkwargs\u001b[0m\u001b[1;33m)\u001b[0m\u001b[1;33m\u001b[0m\u001b[0m\n\u001b[0m\u001b[0;32m    239\u001b[0m     \u001b[1;32mreturn\u001b[0m \u001b[0ml\u001b[0m\u001b[1;33m.\u001b[0m\u001b[0mlambda_func\u001b[0m\u001b[1;33m\u001b[0m\u001b[0m\n\u001b[0;32m    240\u001b[0m \u001b[1;33m\u001b[0m\u001b[0m\n",
        "\u001b[1;32m/opt/anaconda/envs/np18py27-1.9/lib/python2.7/site-packages/sympy/plotting/experimental_lambdify.pyc\u001b[0m in \u001b[0;36m__init__\u001b[1;34m(self, args, expr, print_lambda, use_evalf, float_wrap_evalf, complex_wrap_evalf, use_np, use_python_math, use_python_cmath, use_interval)\u001b[0m\n\u001b[0;32m    257\u001b[0m         \u001b[1;31m# Constructing the argument string\u001b[0m\u001b[1;33m\u001b[0m\u001b[1;33m\u001b[0m\u001b[0m\n\u001b[0;32m    258\u001b[0m         \u001b[1;32mif\u001b[0m \u001b[1;32mnot\u001b[0m \u001b[0mall\u001b[0m\u001b[1;33m(\u001b[0m\u001b[1;33m[\u001b[0m\u001b[0misinstance\u001b[0m\u001b[1;33m(\u001b[0m\u001b[0ma\u001b[0m\u001b[1;33m,\u001b[0m \u001b[0mSymbol\u001b[0m\u001b[1;33m)\u001b[0m \u001b[1;32mfor\u001b[0m \u001b[0ma\u001b[0m \u001b[1;32min\u001b[0m \u001b[0margs\u001b[0m\u001b[1;33m]\u001b[0m\u001b[1;33m)\u001b[0m\u001b[1;33m:\u001b[0m\u001b[1;33m\u001b[0m\u001b[0m\n\u001b[1;32m--> 259\u001b[1;33m             \u001b[1;32mraise\u001b[0m \u001b[0mValueError\u001b[0m\u001b[1;33m(\u001b[0m\u001b[1;34m'The arguments must be Symbols.'\u001b[0m\u001b[1;33m)\u001b[0m\u001b[1;33m\u001b[0m\u001b[0m\n\u001b[0m\u001b[0;32m    260\u001b[0m         \u001b[1;32melse\u001b[0m\u001b[1;33m:\u001b[0m\u001b[1;33m\u001b[0m\u001b[0m\n\u001b[0;32m    261\u001b[0m             \u001b[0margstr\u001b[0m \u001b[1;33m=\u001b[0m \u001b[1;34m', '\u001b[0m\u001b[1;33m.\u001b[0m\u001b[0mjoin\u001b[0m\u001b[1;33m(\u001b[0m\u001b[1;33m[\u001b[0m\u001b[0mstr\u001b[0m\u001b[1;33m(\u001b[0m\u001b[0ma\u001b[0m\u001b[1;33m)\u001b[0m \u001b[1;32mfor\u001b[0m \u001b[0ma\u001b[0m \u001b[1;32min\u001b[0m \u001b[0margs\u001b[0m\u001b[1;33m]\u001b[0m\u001b[1;33m)\u001b[0m\u001b[1;33m\u001b[0m\u001b[0m\n",
        "\u001b[1;31mValueError\u001b[0m: The arguments must be Symbols."
       ]
      },
      {
       "metadata": {},
       "output_type": "display_data",
       "png": "[encoded data removed]",
       "text": [
        "<matplotlib.figure.Figure at 0x4e0f0d0>"
       ]
      }
     ],
     "prompt_number": 6
    },
    {
     "cell_type": "markdown",
     "metadata": {},
     "source": [
      "###[20]###\n",
      "\n",
      "Vertex at (7/4,-1/8) \n"
     ]
    },
    {
     "cell_type": "code",
     "collapsed": false,
     "input": [
      "f = 2*x**2 - 7*x + 6\n",
      "print \"f(7/4) = {0}\".format(f.subs(x, 7./4))\n",
      "symplot(f, (x, -3+7./4, 3+7./4))\n",
      "display()"
     ],
     "language": "python",
     "metadata": {},
     "outputs": []
    },
    {
     "cell_type": "markdown",
     "metadata": {},
     "source": [
      "###[21]###"
     ]
    },
    {
     "cell_type": "code",
     "collapsed": false,
     "input": [
      "symplot(x**4 + 3*x**2 - 4, (x, -2, 2))\n",
      "display()"
     ],
     "language": "python",
     "metadata": {},
     "outputs": []
    },
    {
     "cell_type": "markdown",
     "metadata": {},
     "source": [
      "###[22]###"
     ]
    },
    {
     "cell_type": "code",
     "collapsed": false,
     "input": [
      "symplot(x**3 - 2*x**2 - 4*x + 8, (x, -3, 5))\n",
      "display()"
     ],
     "language": "python",
     "metadata": {},
     "outputs": []
    },
    {
     "cell_type": "markdown",
     "metadata": {},
     "source": [
      "###[23]###"
     ]
    },
    {
     "cell_type": "code",
     "collapsed": false,
     "input": [
      "symplot(3*x**5 - 9*x**4 - 12*x**3 + 36*x**2, (x, -3, 4), ylim = (-40, 60))\n",
      "display()"
     ],
     "language": "python",
     "metadata": {},
     "outputs": []
    },
    {
     "cell_type": "markdown",
     "metadata": {},
     "source": [
      "###[24] Show that (x-3) is a factor ###\n",
      "\n",
      "If (x-3) is a factor in the polynomial, then substituting x=3 should result in zero. Using synthetic substitution:\n",
      "    \n",
      "    3_|  5   -15    3   -11    7   -3\n",
      "              15    0     9   -6    3\n",
      "        ______________________________\n",
      "         5     0    3    -2    1    0\n",
      "\n",
      "The zero at the bottom right confirms that 3 is a zero of the function and that (x-3) must therefore be a factor.\n",
      "\n",
      "###[25] Domain restrictions, etc. of a rational function ###\n",
      "\n",
      "$$ h(x)= \\frac {2x^2-8} {x^2-x-6} = \\frac {2(x^2-4)} {(x-3)(x+2)} = \\frac {2(x+2)(x-2)}{(x-3)(x+2)} $$\n",
      "\n",
      "Common factor in the numerator and denominator is (x+2), so a hole exists at $x=-2$. Canceling this common factor leaves you with a rational expression that defines the shape of the function:\n",
      "    \n",
      "$$ \\frac {2(x-2)} {x-3} $$\n",
      "\n",
      "This remaining curve is also undefined at $x=3$, which defines the vertical asymptote. Substitute the x coordinate of the hole to find the hole's coordinate and note that the function approaches a value of +2 as x approaches positive or negative infinity. Summarizing:\n",
      "\n",
      "**Hole at (-2, 1.6) or (-2, 8/5), vertical asymptote at $x=-3$ and horizontal (end behavior) asymptote at $y=2$**.\n",
      "\n",
      "###[26] Graph and find intercepts ###\n",
      "\n",
      "Evaluate $ \\frac {2(x-2)} {x-3} $ at x=0 to find the y intercept: **(0, 4/3)**. Solve $0 = \\frac {2(x-2)} {x-3} $ for x to find the x intercept:  **(2,0)**."
     ]
    },
    {
     "cell_type": "code",
     "collapsed": false,
     "input": [
      "X1 = linspace(-8,2.999)\n",
      "X2 = linspace(3.001,8)\n",
      "h = lambda x : 2*(x-2)/(x-3)\n",
      "Y1 = [h(x) for x in X1]\n",
      "Y2 = [h(x) for x in X2]\n",
      "plot(X1,Y1)\n",
      "plot(X2,Y2)\n",
      "plot([0],[4/3.],'.')\n",
      "plot([2],[0],'.')\n",
      "plot([-2],[1.6],'o')\n",
      "xlim(xmin=-8, xmax=8)\n",
      "ylim(ymin=-7,ymax=7)\n",
      "vlines([3],-100,100, linestyles='dashed')\n",
      "hlines([2],-100,100, linestyles = 'dashed')\n",
      "grid()\n",
      "display()"
     ],
     "language": "python",
     "metadata": {},
     "outputs": []
    },
    {
     "cell_type": "markdown",
     "metadata": {},
     "source": [
      "###[27] Rational function for a graph ###\n",
      "\n",
      "The graph shows a vertical asymptote at x=3, which implies a term in the denominator: (x-3)\n",
      "    \n",
      "The graph shows an end behavior asymptote with the equation: $y=x-1$. So the function can be written:\n",
      "        \n",
      "$$ f(x)=x-1+\\frac 1 {x-3} $$\n",
      "\n",
      "Convert to rational form:\n",
      "    \n",
      "$$ f(x)=\\frac{(x-1)(x-3)} {x-3} + \\frac 1 {x-3} = \\frac {x^2-4x+3+1} {x-3} = \\frac {x^2-4x+4} {x-3} $$\n",
      "\n"
     ]
    },
    {
     "cell_type": "markdown",
     "metadata": {},
     "source": [
      "###[28] Function transformation ###\n",
      "\n",
      "Substitute \"x-3\" for x in the definition of f(x):  $g(x)=f(x-3)+1 = (x-3)^2 + 1 = x^2-6x+10 $\n",
      "    \n",
      "Vertex is at **(3,1)**. This transformation represents a horizontal shift right of 3 units and up of 1.\n"
     ]
    },
    {
     "cell_type": "code",
     "collapsed": false,
     "input": [
      "X = linspace(-7,7)\n",
      "f = lambda x : x**2\n",
      "Y = [f(x) for x in X]       # parent function f(x)\n",
      "Yt = [f(x-3)+1 for x in X]  # transformation of f(x): f(x-3)+1\n",
      "plot(X,Y,'--')\n",
      "plot(X,Yt)\n",
      "xlim(xmin=-7, xmax=7)\n",
      "ylim(ymin=-2, ymax=9)\n",
      "grid()\n",
      "display()"
     ],
     "language": "python",
     "metadata": {},
     "outputs": []
    },
    {
     "cell_type": "markdown",
     "metadata": {},
     "source": [
      "###[29] Function transformation ###\n",
      "\n",
      "Substitute \"x+1\" for x in the definition of f(x):  $g(x)=2f(x+1) = 2|{x+1}| $\n",
      "    \n",
      "Vertex is at **(-1,0)**. This transformation represents a horizontal shift left of 1 units with a vertical stretch of 2.\n",
      "\n"
     ]
    },
    {
     "cell_type": "code",
     "collapsed": false,
     "input": [
      "X = linspace(-7,7)\n",
      "f = lambda x : abs(x)\n",
      "Y = [f(x) for x in X]       # parent function f(x)\n",
      "Yt = [2*f(x+1) for x in X]  # transformation of f(x): 2f(x+1)\n",
      "plot(X,Y,'--')\n",
      "plot(X,Yt)\n",
      "xlim(xmin=-7, xmax=7)\n",
      "ylim(ymin=-2, ymax=9)\n",
      "grid()\n",
      "display()"
     ],
     "language": "python",
     "metadata": {},
     "outputs": []
    },
    {
     "cell_type": "markdown",
     "metadata": {},
     "source": [
      "###[30] Function transformation ###\n",
      "\n",
      "Substitute \"x+2\" for x in the definition of f(x):  $g(x)=-f(x+2)+3 = 3-\\frac 1 {x+2}=\\frac {3x+5}{x+2} $\n",
      "    \n",
      "This transformation represents a horizontal shift left of 2 units, a vertical shift up of 3 and a vertical flip.\n"
     ]
    },
    {
     "cell_type": "code",
     "collapsed": false,
     "input": [
      "X1 = linspace(-7,-.001)\n",
      "X2 = linspace(.001, 7)\n",
      "f = lambda x : 1./x\n",
      "plot(X1,[f(x) for x in X1],'--')\n",
      "plot(X2,[f(x) for x in X2],'--')\n",
      "X1a = linspace(-7,-2.001)\n",
      "X2a = linspace(-1.999, 7)\n",
      "g = lambda x : (3*x+5)/(x+2)\n",
      "plot(X1a,[g(x) for x in X1a])\n",
      "plot(X2a,[g(x) for x in X2a])\n",
      "xlim(xmin=-8, xmax=8)\n",
      "ylim(ymin=-7,ymax=7)\n",
      "grid()\n",
      "display()"
     ],
     "language": "python",
     "metadata": {},
     "outputs": []
    },
    {
     "cell_type": "markdown",
     "metadata": {},
     "source": [
      "###[31] Rule of 72 ###\n",
      "\n",
      "Rule of 72 states: $T \\approx \\frac {72} {R\\%} = \\frac {72} {2.4} = 30 \\ years $\n",
      "    \n",
      "###[32] Compounding: evaluating the formula ###\n",
      "\n",
      "[a] monthly compounding: $ A(t)=A_0(1+\\frac r n )^{n \\cdot t} = 1500(1 + \\frac {.03} {12})^{12 \\cdot 10} = \\$2024 $\n",
      "\n",
      "[b] continuous compounding: $ P(t) = P_0 e^{rt} = 1500 e^{.03 \\cdot 10} = \\$2025 $\n",
      "    \n",
      "    "
     ]
    },
    {
     "cell_type": "code",
     "collapsed": false,
     "input": [
      "print 1500*(1+(0.03/12))**(12*10)\n",
      "print 1500*e**(0.03*10)"
     ],
     "language": "python",
     "metadata": {},
     "outputs": []
    },
    {
     "cell_type": "markdown",
     "metadata": {},
     "source": [
      "###[33] Compounding: solving for something ###\n",
      "\n",
      "Use the continuous compounding formula with an unknown r:\n",
      "\n",
      "$ P(t) = P(3)=2870 = 2500 e^{3r} $\n",
      "\n",
      "$$ \\frac {2870} {2500} = e^{3r} $$\n",
      "\n",
      "$$ \\ln {\\frac {2870}{2500}} = 3r $$\n",
      "\n",
      "$$ r = \\frac 1 3 \\ln {\\frac {2870}{2500}}  = .046 = 4.6\\% $$"
     ]
    },
    {
     "cell_type": "code",
     "collapsed": false,
     "input": [
      "print (1.0/3.0)*log(2870.0/2500.0)"
     ],
     "language": "python",
     "metadata": {},
     "outputs": []
    },
    {
     "cell_type": "markdown",
     "metadata": {},
     "source": [
      "###[34] Half Life ###\n",
      "\n",
      "Half life formula is an application of:\n",
      "    \n",
      "$$ A(t) = A_0 \\cdot b^{\\frac t k} = A_0 \\cdot \\left({\\frac 1 2}\\right)^{\\frac t k} $$\n",
      "\n",
      "$$ A(1000) = A_0 \\cdot \\left({\\frac 1 2}\\right)^{\\frac {1000}{185}}$$\n",
      "\n",
      "$$ \\frac {A(1000)}{A_0} = \\left({\\frac 1 2}\\right)^{\\frac {1000}{185}} = 0.0236 = 2.36\\% $$"
     ]
    },
    {
     "cell_type": "code",
     "collapsed": false,
     "input": [
      "print 0.5**(1000.0/185.0)"
     ],
     "language": "python",
     "metadata": {},
     "outputs": []
    },
    {
     "cell_type": "markdown",
     "metadata": {},
     "source": [
      "###[35] Logarithms ###\n",
      "\n",
      "[a] Solve $5^x=479$:  Take $\\log_5$ of both sides:\n",
      "        \n",
      "$$ \\log_5 {5^x} = \\log_5 {479} $$\n",
      "\n",
      "$$ x = \\log_5 {479} = \\frac {\\log {479}} {\\log 5}  = 3.8 $$\n",
      "    \n",
      " "
     ]
    },
    {
     "cell_type": "code",
     "collapsed": false,
     "input": [
      "print log(479)/log(5)"
     ],
     "language": "python",
     "metadata": {},
     "outputs": []
    },
    {
     "cell_type": "markdown",
     "metadata": {},
     "source": [
      "###[36] Logarithms: simplify ###\n",
      "\n",
      "[a] Logarithm of a ratio is a difference of logarithms:\n",
      "    \n",
      "$$\\log_2{\\left(\\frac {x^3} 8\\right)} = \\log_2{x^3}-\\log_2 8 = 3\\log_2 x - 3 = 3(\\log_2 x - 1) $$\n",
      "                                                                    \n",
      "[b] More...\n",
      "\n",
      "$$ \\log_9 {12} - 2 \\log_9 6 + \\log_9 {27} $$\n",
      "\n",
      "$$ \\log_9 {12} - \\log_9 {6^2} + \\log_9 {27} $$\n",
      "                                                                    \n",
      "$$ \\log_9 {\\frac {12}{36}} + \\log_9 {27} $$\n",
      "\n",
      "$$ \\log_9 {\\left(\\frac {1}{3} \\cdot  27\\right)} $$\n",
      "\n",
      "$$ \\log_9 9 = 1 $$\n"
     ]
    },
    {
     "cell_type": "code",
     "collapsed": false,
     "input": [
      "print log(12)/log(9)-2*log(6)/log(9)+log(27)/log(9)"
     ],
     "language": "python",
     "metadata": {},
     "outputs": []
    },
    {
     "cell_type": "markdown",
     "metadata": {},
     "source": [
      "# Vectors and Planes Important Equations\n",
      "\n",
      "To graph a plane in 3-D, find *the x, y and z intercepts*.\n",
      "\n",
      "The vector (A, B, C) is perpendicular to the plane $A x + B y + C z = D $\n",
      "\n",
      "If you have two points $A(x_A, y_A, z_A) $ and $B(x_B, y_B, z_B)$, then the vector $\\vec {AB} = (x_B-x_A, y_B-y_A, z_B-z_A)$\n",
      "\n",
      "For vector $\\mathbf u=(a,b,c), |{\\mathbf u}| = \\sqrt{a^2+b^2+c^2}$\n",
      "\n",
      "For vector $\\mathbf u=(a,b,c)$ and $\\mathbf v=(p,q,r)$, $\\mathbf u \\cdot \\mathbf v = ap+bq+cr$\n",
      "\n",
      "The angle $\\theta$ between two vectors $\\mathbf u$ and $\\mathbf v$: $\\cos \\theta = \\frac {\\mathbf u \\cdot \\mathbf v} {|\\mathbf u | |\\mathbf v |} $\n",
      "\n",
      "###Vector Equations###\n",
      "\n",
      "$P = v t + P_0 \\leftrightarrow (x,y,z)=(a,b,c)t + (x_0, y_0, z_0)$ where $v=(a,b,c)$ is the **direction** and $P_0 = (x_0, y_0, z_0)$ is a point on the line (this can be done in 2D as well)."
     ]
    },
    {
     "cell_type": "markdown",
     "metadata": {},
     "source": [
      "###[37] 3D Vectors and Planes"
     ]
    },
    {
     "cell_type": "markdown",
     "metadata": {},
     "source": [
      "Vector perpendicular to the plane $3x-4y+6z=12$: one possible vector is obtained by setting the vector components equal to the x, y and z coefficients of the plane equation: \n",
      "\n",
      "**(3, -4, 6)**"
     ]
    },
    {
     "cell_type": "markdown",
     "metadata": {},
     "source": [
      "###[38] Parallel Vectors\n",
      "\n",
      "Find a vector parallel to the result in [37]: any multiple of the original vector will be parallel to it, since they represent differences in *length*, but not *direction*. \n",
      "\n",
      "For example: $2 (3, -4, 6) = (6, -8, 12)$ is a parallel vector."
     ]
    },
    {
     "cell_type": "markdown",
     "metadata": {},
     "source": [
      "###[39] Graphing Planes\n",
      "\n",
      "Find x intercept by setting y and z = 0. Find y intercept by setting x and z = 0. Find z intercept by setting x and y = 0. Plot each intercept point on the 3D grid and connect as the 3 vertices of a triangle. Shade the triangle.\n",
      "\n",
      "X intercept is (4,0,0). Y intercept is (0,-3,0). Z intercept is (0,0,2)."
     ]
    },
    {
     "cell_type": "markdown",
     "metadata": {},
     "source": [
      "###[40] Calculating the Dot Product\n",
      "\n",
      "Suppose $\\mathbf u = (2, -4, 1)$ and $\\mathbf v = (-1, 3, 5)$\n",
      "\n",
      "Find $ \\mathbf u \\cdot \\mathbf v $\n",
      "\n",
      "$ \\mathbf u \\cdot \\mathbf v = 2 \\cdot -1 + -4 \\cdot 3 + 1 \\cdot 5 = -9$"
     ]
    },
    {
     "cell_type": "code",
     "collapsed": false,
     "input": [
      "udotv = 2 * -1 + -4 * 3 + 1 * 5\n",
      "print udotv"
     ],
     "language": "python",
     "metadata": {},
     "outputs": []
    },
    {
     "cell_type": "markdown",
     "metadata": {},
     "source": [
      "###[41] Calculting Vector Magnitude or Length or Absolute Value\n",
      "\n",
      "Find $|\\mathbf u | $ and $| \\mathbf v |$\n",
      "\n",
      "$| \\mathbf u | = \\sqrt{2^2 + (-4)^2 + 1^2} \\approx 4.58 $\n",
      "\n",
      "$| \\mathbf v | = \\sqrt{(-1)^2 + 3^2 + 5^2} \\approx 5.92 $\n"
     ]
    },
    {
     "cell_type": "code",
     "collapsed": false,
     "input": [
      "absu = sqrt(2**2 + (-4)**2 + 1**2)\n",
      "absv = sqrt((-1)**2 + 3**2 + 5**2)\n",
      "print \"abs(u) = \", absu\n",
      "print \"abs(v) = \", absv"
     ],
     "language": "python",
     "metadata": {},
     "outputs": []
    },
    {
     "cell_type": "markdown",
     "metadata": {},
     "source": [
      "###[42] Calculating Angles Between Vectors\n",
      "\n",
      "Using results of [40] and [41], find the angle betweem the two vectors.\n",
      "\n",
      "The relationship to use here is the definition of the dot product:\n",
      "$$ \\mathbf u \\cdot \\mathbf v = |\\mathbf u||\\mathbf v| \\cos \\theta $$\n",
      "\n",
      "Rearrange and solve for the angle: \n",
      "\n",
      "$$ \\theta = \\cos^{-1}\\left(\\frac {\\mathbf u \\cdot \\mathbf v} {|\\mathbf u | |\\mathbf v |}\\right) = \\cos^{-1}\\left(\\frac {-9} {4.58 \\cdot 5.92} \\right) \\approx 109.4^\\circ $$\n"
     ]
    },
    {
     "cell_type": "code",
     "collapsed": false,
     "input": [
      "theta = degrees(arccos(udotv / (absu * absv)))\n",
      "print \"Theta = :\", theta"
     ],
     "language": "python",
     "metadata": {},
     "outputs": []
    },
    {
     "cell_type": "markdown",
     "metadata": {},
     "source": [
      "###[43] Vector Addition, Subtraction and Representation\n",
      "\n",
      "If $\\mathbf u = (-1, 2)$ and $\\mathbf v = (3, -1)$, find the following: \n",
      "\n",
      "$$\\mathbf u + \\mathbf v = (-1 + 3, 2 - 1) = (2, 1)$$\n",
      "\n",
      "$$\\mathbf u - \\mathbf v = (-1 - 3, 2 - (-1)) = (-4, 3)$$"
     ]
    },
    {
     "cell_type": "code",
     "collapsed": false,
     "input": [
      "f = figure(figsize=[4,3])\n",
      "grid()\n",
      "X = [0,0]\n",
      "Y = [0,0]\n",
      "U = [2,-4]\n",
      "V = [1, 3]\n",
      "quiver(X, Y, U, V, color=['red','blue'], scale = 8)\n",
      "xticks(arange(-4,4))\n",
      "yticks(arange(-4,4))\n",
      "xlim(-5,3)\n",
      "ylim(-2,4)\n",
      "show()"
     ],
     "language": "python",
     "metadata": {},
     "outputs": []
    },
    {
     "cell_type": "markdown",
     "metadata": {},
     "source": [
      "###[44] Vector Equations\n",
      "\n",
      "A robot starts at a point, $A(4,1)$. In one second, it has moved to the point $B(3,3)$. \n",
      "\n",
      "Find the direction vector $\\vec {AB}$.\n",
      "\n",
      "A vector expressing motion from A to B is computed by subtracting the coordinates of A from the coordinates of B:\n",
      "\n",
      "$\\vec {AB} = (3-4, 3-1) = (-1,2)$\n",
      "\n",
      "###[45] Vector Equations Continued\n",
      "\n",
      "Find a vector equation for the line containing points A and B.\n",
      "\n",
      "$(x,y)=(-1,2)\\cdot t + (4,1)$ or \n",
      "\n",
      "$(x,y)=(-1,2) \\cdot t + (3,3)$"
     ]
    }
   ],
   "metadata": {}
  }
 ]
}